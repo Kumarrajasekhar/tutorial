{
 "cells": [
  {
   "cell_type": "code",
   "execution_count": 6,
   "id": "946b9f6e",
   "metadata": {},
   "outputs": [],
   "source": [
    "import pandas as pd\n",
    "import numpy as np"
   ]
  },
  {
   "cell_type": "code",
   "execution_count": 7,
   "id": "114a6fbc",
   "metadata": {},
   "outputs": [],
   "source": [
    "df1=pd.read_csv(\"C:\\\\Users\\\\Hello\\\\Desktop\\\\Dataset\\\\social.csv\")"
   ]
  },
  {
   "cell_type": "code",
   "execution_count": 8,
   "id": "6f45b631",
   "metadata": {},
   "outputs": [
    {
     "data": {
      "text/html": [
       "<div>\n",
       "<style scoped>\n",
       "    .dataframe tbody tr th:only-of-type {\n",
       "        vertical-align: middle;\n",
       "    }\n",
       "\n",
       "    .dataframe tbody tr th {\n",
       "        vertical-align: top;\n",
       "    }\n",
       "\n",
       "    .dataframe thead th {\n",
       "        text-align: right;\n",
       "    }\n",
       "</style>\n",
       "<table border=\"1\" class=\"dataframe\">\n",
       "  <thead>\n",
       "    <tr style=\"text-align: right;\">\n",
       "      <th></th>\n",
       "      <th>User ID</th>\n",
       "      <th>Gender</th>\n",
       "      <th>Age</th>\n",
       "      <th>EstimatedSalary</th>\n",
       "      <th>Purchased</th>\n",
       "    </tr>\n",
       "  </thead>\n",
       "  <tbody>\n",
       "    <tr>\n",
       "      <th>0</th>\n",
       "      <td>15624510</td>\n",
       "      <td>Male</td>\n",
       "      <td>19</td>\n",
       "      <td>19000</td>\n",
       "      <td>0</td>\n",
       "    </tr>\n",
       "    <tr>\n",
       "      <th>1</th>\n",
       "      <td>15810944</td>\n",
       "      <td>Male</td>\n",
       "      <td>35</td>\n",
       "      <td>20000</td>\n",
       "      <td>0</td>\n",
       "    </tr>\n",
       "    <tr>\n",
       "      <th>2</th>\n",
       "      <td>15668575</td>\n",
       "      <td>Female</td>\n",
       "      <td>26</td>\n",
       "      <td>43000</td>\n",
       "      <td>0</td>\n",
       "    </tr>\n",
       "    <tr>\n",
       "      <th>3</th>\n",
       "      <td>15603246</td>\n",
       "      <td>Female</td>\n",
       "      <td>27</td>\n",
       "      <td>57000</td>\n",
       "      <td>0</td>\n",
       "    </tr>\n",
       "    <tr>\n",
       "      <th>4</th>\n",
       "      <td>15804002</td>\n",
       "      <td>Male</td>\n",
       "      <td>19</td>\n",
       "      <td>76000</td>\n",
       "      <td>0</td>\n",
       "    </tr>\n",
       "    <tr>\n",
       "      <th>...</th>\n",
       "      <td>...</td>\n",
       "      <td>...</td>\n",
       "      <td>...</td>\n",
       "      <td>...</td>\n",
       "      <td>...</td>\n",
       "    </tr>\n",
       "    <tr>\n",
       "      <th>395</th>\n",
       "      <td>15691863</td>\n",
       "      <td>Female</td>\n",
       "      <td>46</td>\n",
       "      <td>41000</td>\n",
       "      <td>1</td>\n",
       "    </tr>\n",
       "    <tr>\n",
       "      <th>396</th>\n",
       "      <td>15706071</td>\n",
       "      <td>Male</td>\n",
       "      <td>51</td>\n",
       "      <td>23000</td>\n",
       "      <td>1</td>\n",
       "    </tr>\n",
       "    <tr>\n",
       "      <th>397</th>\n",
       "      <td>15654296</td>\n",
       "      <td>Female</td>\n",
       "      <td>50</td>\n",
       "      <td>20000</td>\n",
       "      <td>1</td>\n",
       "    </tr>\n",
       "    <tr>\n",
       "      <th>398</th>\n",
       "      <td>15755018</td>\n",
       "      <td>Male</td>\n",
       "      <td>36</td>\n",
       "      <td>33000</td>\n",
       "      <td>0</td>\n",
       "    </tr>\n",
       "    <tr>\n",
       "      <th>399</th>\n",
       "      <td>15594041</td>\n",
       "      <td>Female</td>\n",
       "      <td>49</td>\n",
       "      <td>36000</td>\n",
       "      <td>1</td>\n",
       "    </tr>\n",
       "  </tbody>\n",
       "</table>\n",
       "<p>400 rows × 5 columns</p>\n",
       "</div>"
      ],
      "text/plain": [
       "      User ID  Gender  Age  EstimatedSalary  Purchased\n",
       "0    15624510    Male   19            19000          0\n",
       "1    15810944    Male   35            20000          0\n",
       "2    15668575  Female   26            43000          0\n",
       "3    15603246  Female   27            57000          0\n",
       "4    15804002    Male   19            76000          0\n",
       "..        ...     ...  ...              ...        ...\n",
       "395  15691863  Female   46            41000          1\n",
       "396  15706071    Male   51            23000          1\n",
       "397  15654296  Female   50            20000          1\n",
       "398  15755018    Male   36            33000          0\n",
       "399  15594041  Female   49            36000          1\n",
       "\n",
       "[400 rows x 5 columns]"
      ]
     },
     "execution_count": 8,
     "metadata": {},
     "output_type": "execute_result"
    }
   ],
   "source": [
    "df1"
   ]
  },
  {
   "cell_type": "code",
   "execution_count": 9,
   "id": "3c89d5bf",
   "metadata": {},
   "outputs": [
    {
     "data": {
      "text/plain": [
       "Index(['User ID', 'Gender', 'Age', 'EstimatedSalary', 'Purchased'], dtype='object')"
      ]
     },
     "execution_count": 9,
     "metadata": {},
     "output_type": "execute_result"
    }
   ],
   "source": [
    "df1.columns"
   ]
  },
  {
   "cell_type": "code",
   "execution_count": 10,
   "id": "ed77441c",
   "metadata": {},
   "outputs": [],
   "source": [
    "df1.drop(\"User ID\",axis=1,inplace=True)"
   ]
  },
  {
   "cell_type": "code",
   "execution_count": 11,
   "id": "709ee1b3",
   "metadata": {},
   "outputs": [
    {
     "data": {
      "text/html": [
       "<div>\n",
       "<style scoped>\n",
       "    .dataframe tbody tr th:only-of-type {\n",
       "        vertical-align: middle;\n",
       "    }\n",
       "\n",
       "    .dataframe tbody tr th {\n",
       "        vertical-align: top;\n",
       "    }\n",
       "\n",
       "    .dataframe thead th {\n",
       "        text-align: right;\n",
       "    }\n",
       "</style>\n",
       "<table border=\"1\" class=\"dataframe\">\n",
       "  <thead>\n",
       "    <tr style=\"text-align: right;\">\n",
       "      <th></th>\n",
       "      <th>Gender</th>\n",
       "      <th>Age</th>\n",
       "      <th>EstimatedSalary</th>\n",
       "      <th>Purchased</th>\n",
       "    </tr>\n",
       "  </thead>\n",
       "  <tbody>\n",
       "    <tr>\n",
       "      <th>0</th>\n",
       "      <td>Male</td>\n",
       "      <td>19</td>\n",
       "      <td>19000</td>\n",
       "      <td>0</td>\n",
       "    </tr>\n",
       "    <tr>\n",
       "      <th>1</th>\n",
       "      <td>Male</td>\n",
       "      <td>35</td>\n",
       "      <td>20000</td>\n",
       "      <td>0</td>\n",
       "    </tr>\n",
       "    <tr>\n",
       "      <th>2</th>\n",
       "      <td>Female</td>\n",
       "      <td>26</td>\n",
       "      <td>43000</td>\n",
       "      <td>0</td>\n",
       "    </tr>\n",
       "    <tr>\n",
       "      <th>3</th>\n",
       "      <td>Female</td>\n",
       "      <td>27</td>\n",
       "      <td>57000</td>\n",
       "      <td>0</td>\n",
       "    </tr>\n",
       "    <tr>\n",
       "      <th>4</th>\n",
       "      <td>Male</td>\n",
       "      <td>19</td>\n",
       "      <td>76000</td>\n",
       "      <td>0</td>\n",
       "    </tr>\n",
       "    <tr>\n",
       "      <th>...</th>\n",
       "      <td>...</td>\n",
       "      <td>...</td>\n",
       "      <td>...</td>\n",
       "      <td>...</td>\n",
       "    </tr>\n",
       "    <tr>\n",
       "      <th>395</th>\n",
       "      <td>Female</td>\n",
       "      <td>46</td>\n",
       "      <td>41000</td>\n",
       "      <td>1</td>\n",
       "    </tr>\n",
       "    <tr>\n",
       "      <th>396</th>\n",
       "      <td>Male</td>\n",
       "      <td>51</td>\n",
       "      <td>23000</td>\n",
       "      <td>1</td>\n",
       "    </tr>\n",
       "    <tr>\n",
       "      <th>397</th>\n",
       "      <td>Female</td>\n",
       "      <td>50</td>\n",
       "      <td>20000</td>\n",
       "      <td>1</td>\n",
       "    </tr>\n",
       "    <tr>\n",
       "      <th>398</th>\n",
       "      <td>Male</td>\n",
       "      <td>36</td>\n",
       "      <td>33000</td>\n",
       "      <td>0</td>\n",
       "    </tr>\n",
       "    <tr>\n",
       "      <th>399</th>\n",
       "      <td>Female</td>\n",
       "      <td>49</td>\n",
       "      <td>36000</td>\n",
       "      <td>1</td>\n",
       "    </tr>\n",
       "  </tbody>\n",
       "</table>\n",
       "<p>400 rows × 4 columns</p>\n",
       "</div>"
      ],
      "text/plain": [
       "     Gender  Age  EstimatedSalary  Purchased\n",
       "0      Male   19            19000          0\n",
       "1      Male   35            20000          0\n",
       "2    Female   26            43000          0\n",
       "3    Female   27            57000          0\n",
       "4      Male   19            76000          0\n",
       "..      ...  ...              ...        ...\n",
       "395  Female   46            41000          1\n",
       "396    Male   51            23000          1\n",
       "397  Female   50            20000          1\n",
       "398    Male   36            33000          0\n",
       "399  Female   49            36000          1\n",
       "\n",
       "[400 rows x 4 columns]"
      ]
     },
     "execution_count": 11,
     "metadata": {},
     "output_type": "execute_result"
    }
   ],
   "source": [
    "df1"
   ]
  },
  {
   "cell_type": "code",
   "execution_count": 12,
   "id": "79679f55",
   "metadata": {},
   "outputs": [],
   "source": [
    "df1=df1.drop(\"Gender\",axis=1)"
   ]
  },
  {
   "cell_type": "code",
   "execution_count": 13,
   "id": "9f9a8439",
   "metadata": {},
   "outputs": [
    {
     "data": {
      "text/html": [
       "<div>\n",
       "<style scoped>\n",
       "    .dataframe tbody tr th:only-of-type {\n",
       "        vertical-align: middle;\n",
       "    }\n",
       "\n",
       "    .dataframe tbody tr th {\n",
       "        vertical-align: top;\n",
       "    }\n",
       "\n",
       "    .dataframe thead th {\n",
       "        text-align: right;\n",
       "    }\n",
       "</style>\n",
       "<table border=\"1\" class=\"dataframe\">\n",
       "  <thead>\n",
       "    <tr style=\"text-align: right;\">\n",
       "      <th></th>\n",
       "      <th>Age</th>\n",
       "      <th>EstimatedSalary</th>\n",
       "      <th>Purchased</th>\n",
       "    </tr>\n",
       "  </thead>\n",
       "  <tbody>\n",
       "    <tr>\n",
       "      <th>0</th>\n",
       "      <td>19</td>\n",
       "      <td>19000</td>\n",
       "      <td>0</td>\n",
       "    </tr>\n",
       "    <tr>\n",
       "      <th>1</th>\n",
       "      <td>35</td>\n",
       "      <td>20000</td>\n",
       "      <td>0</td>\n",
       "    </tr>\n",
       "    <tr>\n",
       "      <th>2</th>\n",
       "      <td>26</td>\n",
       "      <td>43000</td>\n",
       "      <td>0</td>\n",
       "    </tr>\n",
       "    <tr>\n",
       "      <th>3</th>\n",
       "      <td>27</td>\n",
       "      <td>57000</td>\n",
       "      <td>0</td>\n",
       "    </tr>\n",
       "    <tr>\n",
       "      <th>4</th>\n",
       "      <td>19</td>\n",
       "      <td>76000</td>\n",
       "      <td>0</td>\n",
       "    </tr>\n",
       "    <tr>\n",
       "      <th>...</th>\n",
       "      <td>...</td>\n",
       "      <td>...</td>\n",
       "      <td>...</td>\n",
       "    </tr>\n",
       "    <tr>\n",
       "      <th>395</th>\n",
       "      <td>46</td>\n",
       "      <td>41000</td>\n",
       "      <td>1</td>\n",
       "    </tr>\n",
       "    <tr>\n",
       "      <th>396</th>\n",
       "      <td>51</td>\n",
       "      <td>23000</td>\n",
       "      <td>1</td>\n",
       "    </tr>\n",
       "    <tr>\n",
       "      <th>397</th>\n",
       "      <td>50</td>\n",
       "      <td>20000</td>\n",
       "      <td>1</td>\n",
       "    </tr>\n",
       "    <tr>\n",
       "      <th>398</th>\n",
       "      <td>36</td>\n",
       "      <td>33000</td>\n",
       "      <td>0</td>\n",
       "    </tr>\n",
       "    <tr>\n",
       "      <th>399</th>\n",
       "      <td>49</td>\n",
       "      <td>36000</td>\n",
       "      <td>1</td>\n",
       "    </tr>\n",
       "  </tbody>\n",
       "</table>\n",
       "<p>400 rows × 3 columns</p>\n",
       "</div>"
      ],
      "text/plain": [
       "     Age  EstimatedSalary  Purchased\n",
       "0     19            19000          0\n",
       "1     35            20000          0\n",
       "2     26            43000          0\n",
       "3     27            57000          0\n",
       "4     19            76000          0\n",
       "..   ...              ...        ...\n",
       "395   46            41000          1\n",
       "396   51            23000          1\n",
       "397   50            20000          1\n",
       "398   36            33000          0\n",
       "399   49            36000          1\n",
       "\n",
       "[400 rows x 3 columns]"
      ]
     },
     "execution_count": 13,
     "metadata": {},
     "output_type": "execute_result"
    }
   ],
   "source": [
    "df1"
   ]
  },
  {
   "cell_type": "code",
   "execution_count": 14,
   "id": "d1f09bf5",
   "metadata": {},
   "outputs": [],
   "source": [
    "X=df1[[\"Age\",\"EstimatedSalary\"]]"
   ]
  },
  {
   "cell_type": "code",
   "execution_count": 15,
   "id": "ce043193",
   "metadata": {},
   "outputs": [
    {
     "data": {
      "text/html": [
       "<div>\n",
       "<style scoped>\n",
       "    .dataframe tbody tr th:only-of-type {\n",
       "        vertical-align: middle;\n",
       "    }\n",
       "\n",
       "    .dataframe tbody tr th {\n",
       "        vertical-align: top;\n",
       "    }\n",
       "\n",
       "    .dataframe thead th {\n",
       "        text-align: right;\n",
       "    }\n",
       "</style>\n",
       "<table border=\"1\" class=\"dataframe\">\n",
       "  <thead>\n",
       "    <tr style=\"text-align: right;\">\n",
       "      <th></th>\n",
       "      <th>Age</th>\n",
       "      <th>EstimatedSalary</th>\n",
       "    </tr>\n",
       "  </thead>\n",
       "  <tbody>\n",
       "    <tr>\n",
       "      <th>0</th>\n",
       "      <td>19</td>\n",
       "      <td>19000</td>\n",
       "    </tr>\n",
       "    <tr>\n",
       "      <th>1</th>\n",
       "      <td>35</td>\n",
       "      <td>20000</td>\n",
       "    </tr>\n",
       "    <tr>\n",
       "      <th>2</th>\n",
       "      <td>26</td>\n",
       "      <td>43000</td>\n",
       "    </tr>\n",
       "    <tr>\n",
       "      <th>3</th>\n",
       "      <td>27</td>\n",
       "      <td>57000</td>\n",
       "    </tr>\n",
       "    <tr>\n",
       "      <th>4</th>\n",
       "      <td>19</td>\n",
       "      <td>76000</td>\n",
       "    </tr>\n",
       "    <tr>\n",
       "      <th>...</th>\n",
       "      <td>...</td>\n",
       "      <td>...</td>\n",
       "    </tr>\n",
       "    <tr>\n",
       "      <th>395</th>\n",
       "      <td>46</td>\n",
       "      <td>41000</td>\n",
       "    </tr>\n",
       "    <tr>\n",
       "      <th>396</th>\n",
       "      <td>51</td>\n",
       "      <td>23000</td>\n",
       "    </tr>\n",
       "    <tr>\n",
       "      <th>397</th>\n",
       "      <td>50</td>\n",
       "      <td>20000</td>\n",
       "    </tr>\n",
       "    <tr>\n",
       "      <th>398</th>\n",
       "      <td>36</td>\n",
       "      <td>33000</td>\n",
       "    </tr>\n",
       "    <tr>\n",
       "      <th>399</th>\n",
       "      <td>49</td>\n",
       "      <td>36000</td>\n",
       "    </tr>\n",
       "  </tbody>\n",
       "</table>\n",
       "<p>400 rows × 2 columns</p>\n",
       "</div>"
      ],
      "text/plain": [
       "     Age  EstimatedSalary\n",
       "0     19            19000\n",
       "1     35            20000\n",
       "2     26            43000\n",
       "3     27            57000\n",
       "4     19            76000\n",
       "..   ...              ...\n",
       "395   46            41000\n",
       "396   51            23000\n",
       "397   50            20000\n",
       "398   36            33000\n",
       "399   49            36000\n",
       "\n",
       "[400 rows x 2 columns]"
      ]
     },
     "execution_count": 15,
     "metadata": {},
     "output_type": "execute_result"
    }
   ],
   "source": [
    "X"
   ]
  },
  {
   "cell_type": "code",
   "execution_count": 16,
   "id": "2371d7f3",
   "metadata": {},
   "outputs": [],
   "source": [
    "y=df1[[\"Purchased\"]]"
   ]
  },
  {
   "cell_type": "code",
   "execution_count": 17,
   "id": "6dbe10ac",
   "metadata": {},
   "outputs": [
    {
     "data": {
      "text/html": [
       "<div>\n",
       "<style scoped>\n",
       "    .dataframe tbody tr th:only-of-type {\n",
       "        vertical-align: middle;\n",
       "    }\n",
       "\n",
       "    .dataframe tbody tr th {\n",
       "        vertical-align: top;\n",
       "    }\n",
       "\n",
       "    .dataframe thead th {\n",
       "        text-align: right;\n",
       "    }\n",
       "</style>\n",
       "<table border=\"1\" class=\"dataframe\">\n",
       "  <thead>\n",
       "    <tr style=\"text-align: right;\">\n",
       "      <th></th>\n",
       "      <th>Purchased</th>\n",
       "    </tr>\n",
       "  </thead>\n",
       "  <tbody>\n",
       "    <tr>\n",
       "      <th>0</th>\n",
       "      <td>0</td>\n",
       "    </tr>\n",
       "    <tr>\n",
       "      <th>1</th>\n",
       "      <td>0</td>\n",
       "    </tr>\n",
       "    <tr>\n",
       "      <th>2</th>\n",
       "      <td>0</td>\n",
       "    </tr>\n",
       "    <tr>\n",
       "      <th>3</th>\n",
       "      <td>0</td>\n",
       "    </tr>\n",
       "    <tr>\n",
       "      <th>4</th>\n",
       "      <td>0</td>\n",
       "    </tr>\n",
       "    <tr>\n",
       "      <th>...</th>\n",
       "      <td>...</td>\n",
       "    </tr>\n",
       "    <tr>\n",
       "      <th>395</th>\n",
       "      <td>1</td>\n",
       "    </tr>\n",
       "    <tr>\n",
       "      <th>396</th>\n",
       "      <td>1</td>\n",
       "    </tr>\n",
       "    <tr>\n",
       "      <th>397</th>\n",
       "      <td>1</td>\n",
       "    </tr>\n",
       "    <tr>\n",
       "      <th>398</th>\n",
       "      <td>0</td>\n",
       "    </tr>\n",
       "    <tr>\n",
       "      <th>399</th>\n",
       "      <td>1</td>\n",
       "    </tr>\n",
       "  </tbody>\n",
       "</table>\n",
       "<p>400 rows × 1 columns</p>\n",
       "</div>"
      ],
      "text/plain": [
       "     Purchased\n",
       "0            0\n",
       "1            0\n",
       "2            0\n",
       "3            0\n",
       "4            0\n",
       "..         ...\n",
       "395          1\n",
       "396          1\n",
       "397          1\n",
       "398          0\n",
       "399          1\n",
       "\n",
       "[400 rows x 1 columns]"
      ]
     },
     "execution_count": 17,
     "metadata": {},
     "output_type": "execute_result"
    }
   ],
   "source": [
    "y"
   ]
  },
  {
   "cell_type": "code",
   "execution_count": 18,
   "id": "0dbbce54",
   "metadata": {},
   "outputs": [],
   "source": [
    "##splitting of data"
   ]
  },
  {
   "cell_type": "code",
   "execution_count": 19,
   "id": "0b41c73b",
   "metadata": {},
   "outputs": [],
   "source": [
    "from sklearn.model_selection import train_test_split"
   ]
  },
  {
   "cell_type": "code",
   "execution_count": 20,
   "id": "7f845be0",
   "metadata": {},
   "outputs": [],
   "source": [
    "Xtrain,Xtest,ytrain,ytest=train_test_split(X,y,test_size=0.20)"
   ]
  },
  {
   "cell_type": "code",
   "execution_count": 21,
   "id": "6645560b",
   "metadata": {},
   "outputs": [
    {
     "data": {
      "text/plain": [
       "(320, 2)"
      ]
     },
     "execution_count": 21,
     "metadata": {},
     "output_type": "execute_result"
    }
   ],
   "source": [
    "Xtrain.shape"
   ]
  },
  {
   "cell_type": "code",
   "execution_count": 22,
   "id": "6e4b1960",
   "metadata": {},
   "outputs": [
    {
     "data": {
      "text/plain": [
       "(80, 2)"
      ]
     },
     "execution_count": 22,
     "metadata": {},
     "output_type": "execute_result"
    }
   ],
   "source": [
    "Xtest.shape"
   ]
  },
  {
   "cell_type": "code",
   "execution_count": 23,
   "id": "88f57f50",
   "metadata": {},
   "outputs": [
    {
     "data": {
      "text/plain": [
       "(320, 1)"
      ]
     },
     "execution_count": 23,
     "metadata": {},
     "output_type": "execute_result"
    }
   ],
   "source": [
    "ytrain.shape"
   ]
  },
  {
   "cell_type": "code",
   "execution_count": 24,
   "id": "69249c78",
   "metadata": {},
   "outputs": [
    {
     "data": {
      "text/plain": [
       "(80, 1)"
      ]
     },
     "execution_count": 24,
     "metadata": {},
     "output_type": "execute_result"
    }
   ],
   "source": [
    "ytest.shape"
   ]
  },
  {
   "cell_type": "code",
   "execution_count": 25,
   "id": "2749b7c8",
   "metadata": {},
   "outputs": [],
   "source": [
    "from sklearn.linear_model import LogisticRegression"
   ]
  },
  {
   "cell_type": "code",
   "execution_count": 26,
   "id": "26b6aa94",
   "metadata": {},
   "outputs": [],
   "source": [
    "logreg=LogisticRegression()"
   ]
  },
  {
   "cell_type": "code",
   "execution_count": 27,
   "id": "895ff2f5",
   "metadata": {},
   "outputs": [
    {
     "data": {
      "text/plain": [
       "LogisticRegression()"
      ]
     },
     "execution_count": 27,
     "metadata": {},
     "output_type": "execute_result"
    }
   ],
   "source": [
    "logreg"
   ]
  },
  {
   "cell_type": "code",
   "execution_count": 28,
   "id": "ad1160de",
   "metadata": {},
   "outputs": [
    {
     "name": "stderr",
     "output_type": "stream",
     "text": [
      "E:\\python\\MSSQL15.MSSQLSERVER\\anaconda\\lib\\site-packages\\sklearn\\utils\\validation.py:63: DataConversionWarning: A column-vector y was passed when a 1d array was expected. Please change the shape of y to (n_samples, ), for example using ravel().\n",
      "  return f(*args, **kwargs)\n"
     ]
    },
    {
     "data": {
      "text/plain": [
       "LogisticRegression()"
      ]
     },
     "execution_count": 28,
     "metadata": {},
     "output_type": "execute_result"
    }
   ],
   "source": [
    "logreg.fit(Xtrain,ytrain)"
   ]
  },
  {
   "cell_type": "code",
   "execution_count": 29,
   "id": "90c6b497",
   "metadata": {},
   "outputs": [
    {
     "data": {
      "text/plain": [
       "0.65"
      ]
     },
     "execution_count": 29,
     "metadata": {},
     "output_type": "execute_result"
    }
   ],
   "source": [
    "logreg.score(Xtest,ytest)"
   ]
  },
  {
   "cell_type": "code",
   "execution_count": 30,
   "id": "1c8e7a4c",
   "metadata": {},
   "outputs": [
    {
     "data": {
      "text/plain": [
       "0.640625"
      ]
     },
     "execution_count": 30,
     "metadata": {},
     "output_type": "execute_result"
    }
   ],
   "source": [
    "logreg.score(Xtrain,ytrain)"
   ]
  },
  {
   "cell_type": "code",
   "execution_count": 31,
   "id": "5a6b9311",
   "metadata": {},
   "outputs": [
    {
     "ename": "SyntaxError",
     "evalue": "invalid syntax (Temp/ipykernel_3348/950139735.py, line 2)",
     "output_type": "error",
     "traceback": [
      "\u001b[1;36m  File \u001b[1;32m\"C:\\Users\\Hello\\AppData\\Local\\Temp/ipykernel_3348/950139735.py\"\u001b[1;36m, line \u001b[1;32m2\u001b[0m\n\u001b[1;33m    Standard Scalar\u001b[0m\n\u001b[1;37m             ^\u001b[0m\n\u001b[1;31mSyntaxError\u001b[0m\u001b[1;31m:\u001b[0m invalid syntax\n"
     ]
    }
   ],
   "source": [
    "##Xtrain,Xtest,Yrain,Ytest\n",
    "Standard Scalar"
   ]
  },
  {
   "cell_type": "code",
   "execution_count": null,
   "id": "443c872e",
   "metadata": {},
   "outputs": [],
   "source": [
    "from sklearn.preprocessing import StandardScaler"
   ]
  },
  {
   "cell_type": "code",
   "execution_count": null,
   "id": "7005d81f",
   "metadata": {},
   "outputs": [],
   "source": [
    "sc=StandardScaler()"
   ]
  },
  {
   "cell_type": "code",
   "execution_count": null,
   "id": "1b100eec",
   "metadata": {},
   "outputs": [],
   "source": []
  },
  {
   "cell_type": "code",
   "execution_count": 32,
   "id": "05c3b00c",
   "metadata": {},
   "outputs": [
    {
     "ename": "NameError",
     "evalue": "name 'sc' is not defined",
     "output_type": "error",
     "traceback": [
      "\u001b[1;31m---------------------------------------------------------------------------\u001b[0m",
      "\u001b[1;31mNameError\u001b[0m                                 Traceback (most recent call last)",
      "\u001b[1;32m~\\AppData\\Local\\Temp/ipykernel_3348/1092426942.py\u001b[0m in \u001b[0;36m<module>\u001b[1;34m\u001b[0m\n\u001b[1;32m----> 1\u001b[1;33m \u001b[0msc\u001b[0m\u001b[1;33m.\u001b[0m\u001b[0mfit\u001b[0m\u001b[1;33m(\u001b[0m\u001b[0mXtrain\u001b[0m\u001b[1;33m)\u001b[0m\u001b[1;33m\u001b[0m\u001b[1;33m\u001b[0m\u001b[0m\n\u001b[0m",
      "\u001b[1;31mNameError\u001b[0m: name 'sc' is not defined"
     ]
    }
   ],
   "source": [
    "sc.fit(Xtrain)"
   ]
  },
  {
   "cell_type": "code",
   "execution_count": null,
   "id": "329cb1e7",
   "metadata": {},
   "outputs": [],
   "source": [
    "Xtrain.sample()"
   ]
  },
  {
   "cell_type": "code",
   "execution_count": null,
   "id": "ccb8a2ec",
   "metadata": {},
   "outputs": [],
   "source": [
    "sc.mean_"
   ]
  },
  {
   "cell_type": "code",
   "execution_count": 33,
   "id": "31ed8f92",
   "metadata": {},
   "outputs": [
    {
     "ename": "NameError",
     "evalue": "name 'sc' is not defined",
     "output_type": "error",
     "traceback": [
      "\u001b[1;31m---------------------------------------------------------------------------\u001b[0m",
      "\u001b[1;31mNameError\u001b[0m                                 Traceback (most recent call last)",
      "\u001b[1;32m~\\AppData\\Local\\Temp/ipykernel_3348/1115176496.py\u001b[0m in \u001b[0;36m<module>\u001b[1;34m\u001b[0m\n\u001b[1;32m----> 1\u001b[1;33m \u001b[0mXtrain_sc\u001b[0m\u001b[1;33m=\u001b[0m\u001b[0msc\u001b[0m\u001b[1;33m.\u001b[0m\u001b[0mtransform\u001b[0m\u001b[1;33m(\u001b[0m\u001b[0mXtrain\u001b[0m\u001b[1;33m)\u001b[0m\u001b[1;33m\u001b[0m\u001b[1;33m\u001b[0m\u001b[0m\n\u001b[0m",
      "\u001b[1;31mNameError\u001b[0m: name 'sc' is not defined"
     ]
    }
   ],
   "source": [
    "Xtrain_sc=sc.transform(Xtrain)"
   ]
  },
  {
   "cell_type": "code",
   "execution_count": 34,
   "id": "233320f3",
   "metadata": {},
   "outputs": [
    {
     "ename": "NameError",
     "evalue": "name 'sc' is not defined",
     "output_type": "error",
     "traceback": [
      "\u001b[1;31m---------------------------------------------------------------------------\u001b[0m",
      "\u001b[1;31mNameError\u001b[0m                                 Traceback (most recent call last)",
      "\u001b[1;32m~\\AppData\\Local\\Temp/ipykernel_3348/3625544769.py\u001b[0m in \u001b[0;36m<module>\u001b[1;34m\u001b[0m\n\u001b[1;32m----> 1\u001b[1;33m \u001b[0mXtest_sc\u001b[0m\u001b[1;33m=\u001b[0m\u001b[0msc\u001b[0m\u001b[1;33m.\u001b[0m\u001b[0mtransform\u001b[0m\u001b[1;33m(\u001b[0m\u001b[0mXtest\u001b[0m\u001b[1;33m)\u001b[0m\u001b[1;33m\u001b[0m\u001b[1;33m\u001b[0m\u001b[0m\n\u001b[0m",
      "\u001b[1;31mNameError\u001b[0m: name 'sc' is not defined"
     ]
    }
   ],
   "source": [
    "Xtest_sc=sc.transform(Xtest)"
   ]
  },
  {
   "cell_type": "code",
   "execution_count": 35,
   "id": "6ba466c1",
   "metadata": {},
   "outputs": [
    {
     "ename": "NameError",
     "evalue": "name 'Xtest_sc' is not defined",
     "output_type": "error",
     "traceback": [
      "\u001b[1;31m---------------------------------------------------------------------------\u001b[0m",
      "\u001b[1;31mNameError\u001b[0m                                 Traceback (most recent call last)",
      "\u001b[1;32m~\\AppData\\Local\\Temp/ipykernel_3348/2954139211.py\u001b[0m in \u001b[0;36m<module>\u001b[1;34m\u001b[0m\n\u001b[1;32m----> 1\u001b[1;33m \u001b[0mXtest_sc\u001b[0m\u001b[1;33m\u001b[0m\u001b[1;33m\u001b[0m\u001b[0m\n\u001b[0m",
      "\u001b[1;31mNameError\u001b[0m: name 'Xtest_sc' is not defined"
     ]
    }
   ],
   "source": [
    "Xtest_sc"
   ]
  },
  {
   "cell_type": "code",
   "execution_count": 36,
   "id": "27773aac",
   "metadata": {},
   "outputs": [],
   "source": [
    "from sklearn.linear_model import LogisticRegression"
   ]
  },
  {
   "cell_type": "code",
   "execution_count": 37,
   "id": "29392442",
   "metadata": {},
   "outputs": [],
   "source": [
    "ajlog=LogisticRegression()"
   ]
  },
  {
   "cell_type": "code",
   "execution_count": 38,
   "id": "522f5686",
   "metadata": {},
   "outputs": [
    {
     "data": {
      "text/plain": [
       "LogisticRegression()"
      ]
     },
     "execution_count": 38,
     "metadata": {},
     "output_type": "execute_result"
    }
   ],
   "source": [
    "ajlog\n"
   ]
  },
  {
   "cell_type": "code",
   "execution_count": 39,
   "id": "4fbcb420",
   "metadata": {},
   "outputs": [
    {
     "ename": "NameError",
     "evalue": "name 'Xtrain_sc' is not defined",
     "output_type": "error",
     "traceback": [
      "\u001b[1;31m---------------------------------------------------------------------------\u001b[0m",
      "\u001b[1;31mNameError\u001b[0m                                 Traceback (most recent call last)",
      "\u001b[1;32m~\\AppData\\Local\\Temp/ipykernel_3348/3701836788.py\u001b[0m in \u001b[0;36m<module>\u001b[1;34m\u001b[0m\n\u001b[1;32m----> 1\u001b[1;33m \u001b[0majlog\u001b[0m\u001b[1;33m.\u001b[0m\u001b[0mfit\u001b[0m\u001b[1;33m(\u001b[0m\u001b[0mXtrain_sc\u001b[0m\u001b[1;33m,\u001b[0m\u001b[0mytrain\u001b[0m\u001b[1;33m)\u001b[0m\u001b[1;33m\u001b[0m\u001b[1;33m\u001b[0m\u001b[0m\n\u001b[0m",
      "\u001b[1;31mNameError\u001b[0m: name 'Xtrain_sc' is not defined"
     ]
    }
   ],
   "source": [
    "ajlog.fit(Xtrain_sc,ytrain)"
   ]
  },
  {
   "cell_type": "code",
   "execution_count": 40,
   "id": "1f7b51d4",
   "metadata": {},
   "outputs": [
    {
     "ename": "NameError",
     "evalue": "name 'Xtest_sc' is not defined",
     "output_type": "error",
     "traceback": [
      "\u001b[1;31m---------------------------------------------------------------------------\u001b[0m",
      "\u001b[1;31mNameError\u001b[0m                                 Traceback (most recent call last)",
      "\u001b[1;32m~\\AppData\\Local\\Temp/ipykernel_3348/3942715196.py\u001b[0m in \u001b[0;36m<module>\u001b[1;34m\u001b[0m\n\u001b[1;32m----> 1\u001b[1;33m \u001b[0majlog\u001b[0m\u001b[1;33m.\u001b[0m\u001b[0mscore\u001b[0m\u001b[1;33m(\u001b[0m\u001b[0mXtest_sc\u001b[0m\u001b[1;33m,\u001b[0m\u001b[0mytest\u001b[0m\u001b[1;33m)\u001b[0m\u001b[1;33m\u001b[0m\u001b[1;33m\u001b[0m\u001b[0m\n\u001b[0m",
      "\u001b[1;31mNameError\u001b[0m: name 'Xtest_sc' is not defined"
     ]
    }
   ],
   "source": [
    "ajlog.score(Xtest_sc,ytest)"
   ]
  },
  {
   "cell_type": "code",
   "execution_count": 41,
   "id": "6885ccb7",
   "metadata": {},
   "outputs": [],
   "source": [
    "##Normalization"
   ]
  },
  {
   "cell_type": "code",
   "execution_count": 42,
   "id": "373a1a4a",
   "metadata": {},
   "outputs": [],
   "source": [
    "from sklearn.preprocessing import MinMaxScaler"
   ]
  },
  {
   "cell_type": "code",
   "execution_count": 43,
   "id": "15b02d04",
   "metadata": {},
   "outputs": [],
   "source": [
    "norm=MinMaxScaler()"
   ]
  },
  {
   "cell_type": "code",
   "execution_count": 44,
   "id": "5d37fa3b",
   "metadata": {},
   "outputs": [
    {
     "data": {
      "text/plain": [
       "MinMaxScaler()"
      ]
     },
     "execution_count": 44,
     "metadata": {},
     "output_type": "execute_result"
    }
   ],
   "source": [
    "norm.fit(Xtrain)"
   ]
  },
  {
   "cell_type": "code",
   "execution_count": 45,
   "id": "4c88bedc",
   "metadata": {},
   "outputs": [
    {
     "data": {
      "text/plain": [
       "array([[0.23809524, 0.32592593],\n",
       "       [0.71428571, 0.14814815],\n",
       "       [0.78571429, 0.97037037],\n",
       "       [0.80952381, 0.04444444],\n",
       "       [0.21428571, 0.51111111],\n",
       "       [0.97619048, 0.85185185],\n",
       "       [0.69047619, 0.68148148],\n",
       "       [0.5       , 0.2       ],\n",
       "       [0.07142857, 0.00740741],\n",
       "       [0.38095238, 0.42222222],\n",
       "       [0.14285714, 0.02962963],\n",
       "       [0.45238095, 0.34814815],\n",
       "       [0.61904762, 0.91851852],\n",
       "       [0.73809524, 0.54814815],\n",
       "       [0.80952381, 0.91111111],\n",
       "       [0.16666667, 0.55555556],\n",
       "       [0.92857143, 0.33333333],\n",
       "       [0.14285714, 0.05925926],\n",
       "       [0.54761905, 0.22222222],\n",
       "       [0.0952381 , 0.35555556],\n",
       "       [0.4047619 , 0.54074074],\n",
       "       [0.4047619 , 0.34074074],\n",
       "       [0.42857143, 0.76296296],\n",
       "       [0.04761905, 0.4962963 ],\n",
       "       [0.21428571, 0.03703704],\n",
       "       [0.42857143, 0.82222222],\n",
       "       [0.57142857, 0.48148148],\n",
       "       [0.4047619 , 0.17037037],\n",
       "       [0.30952381, 0.39259259],\n",
       "       [0.54761905, 0.47407407],\n",
       "       [0.4047619 , 0.42222222],\n",
       "       [0.42857143, 0.44444444],\n",
       "       [0.71428571, 0.13333333],\n",
       "       [0.57142857, 0.37037037],\n",
       "       [0.23809524, 0.12592593],\n",
       "       [0.02380952, 0.07407407],\n",
       "       [0.83333333, 0.65925926],\n",
       "       [0.04761905, 0.52592593],\n",
       "       [0.66666667, 0.05185185],\n",
       "       [0.4047619 , 0.33333333],\n",
       "       [0.14285714, 0.54814815],\n",
       "       [1.        , 0.2       ],\n",
       "       [0.52380952, 0.44444444],\n",
       "       [0.42857143, 0.13333333],\n",
       "       [0.9047619 , 0.65925926],\n",
       "       [0.95238095, 0.59259259],\n",
       "       [0.54761905, 0.41481481],\n",
       "       [0.85714286, 0.40740741],\n",
       "       [0.4047619 , 0.23703704],\n",
       "       [0.4047619 , 0.25925926],\n",
       "       [0.57142857, 0.55555556],\n",
       "       [0.45238095, 0.43703704],\n",
       "       [0.88095238, 0.81481481],\n",
       "       [0.71428571, 0.13333333],\n",
       "       [0.47619048, 0.41481481],\n",
       "       [0.71428571, 0.91111111],\n",
       "       [0.45238095, 0.31111111],\n",
       "       [0.26190476, 0.20740741],\n",
       "       [0.19047619, 0.        ],\n",
       "       [0.42857143, 0.33333333],\n",
       "       [0.14285714, 0.31851852],\n",
       "       [0.42857143, 0.95555556],\n",
       "       [0.07142857, 0.39259259],\n",
       "       [0.30952381, 0.76296296],\n",
       "       [0.66666667, 0.32592593],\n",
       "       [0.4047619 , 0.05185185],\n",
       "       [0.66666667, 0.4962963 ],\n",
       "       [0.26190476, 0.34074074],\n",
       "       [1.        , 0.64444444],\n",
       "       [0.47619048, 0.41481481],\n",
       "       [0.30952381, 0.41481481],\n",
       "       [0.45238095, 0.48148148],\n",
       "       [0.14285714, 0.51111111],\n",
       "       [0.33333333, 0.88888889],\n",
       "       [0.97619048, 0.5037037 ],\n",
       "       [0.66666667, 0.43703704],\n",
       "       [0.42857143, 0.28888889],\n",
       "       [0.57142857, 0.28888889],\n",
       "       [0.52380952, 0.31111111],\n",
       "       [0.95238095, 0.23703704],\n",
       "       [0.04761905, 0.4962963 ],\n",
       "       [0.11904762, 0.35555556],\n",
       "       [0.23809524, 0.16296296],\n",
       "       [0.04761905, 0.05925926],\n",
       "       [0.21428571, 0.54814815],\n",
       "       [0.83333333, 0.14074074],\n",
       "       [0.21428571, 0.6       ],\n",
       "       [0.69047619, 0.03703704],\n",
       "       [0.52380952, 0.42222222],\n",
       "       [0.4047619 , 0.25925926],\n",
       "       [0.26190476, 0.5037037 ],\n",
       "       [0.4047619 , 0.08888889],\n",
       "       [0.45238095, 0.13333333],\n",
       "       [0.57142857, 0.44444444],\n",
       "       [0.4047619 , 0.60740741],\n",
       "       [0.        , 0.4962963 ],\n",
       "       [0.5       , 0.79259259],\n",
       "       [0.4047619 , 0.45925926],\n",
       "       [0.88095238, 0.85185185],\n",
       "       [0.57142857, 0.42962963],\n",
       "       [0.71428571, 0.11111111],\n",
       "       [0.4047619 , 0.42222222],\n",
       "       [0.16666667, 0.13333333],\n",
       "       [0.69047619, 0.72592593],\n",
       "       [0.69047619, 0.07407407],\n",
       "       [0.47619048, 0.34074074],\n",
       "       [0.11904762, 0.4962963 ],\n",
       "       [0.04761905, 0.15555556],\n",
       "       [0.85714286, 0.65925926],\n",
       "       [0.26190476, 0.48148148],\n",
       "       [0.33333333, 0.62962963],\n",
       "       [0.5       , 0.88148148],\n",
       "       [0.66666667, 0.19259259],\n",
       "       [0.02380952, 0.45185185],\n",
       "       [0.57142857, 0.36296296],\n",
       "       [0.57142857, 0.40740741],\n",
       "       [0.21428571, 0.01481481],\n",
       "       [0.4047619 , 0.44444444],\n",
       "       [0.23809524, 0.51111111],\n",
       "       [0.4047619 , 0.07407407],\n",
       "       [0.95238095, 0.17037037],\n",
       "       [0.5952381 , 0.87407407],\n",
       "       [0.66666667, 0.6       ],\n",
       "       [0.54761905, 0.32592593],\n",
       "       [0.71428571, 0.77037037],\n",
       "       [0.33333333, 1.        ],\n",
       "       [0.21428571, 0.9037037 ],\n",
       "       [0.26190476, 0.23703704],\n",
       "       [0.42857143, 0.35555556],\n",
       "       [0.14285714, 0.2962963 ],\n",
       "       [0.30952381, 0.43703704],\n",
       "       [0.19047619, 0.48888889],\n",
       "       [0.54761905, 0.27407407],\n",
       "       [0.5       , 0.45925926],\n",
       "       [0.4047619 , 0.28148148],\n",
       "       [0.64285714, 0.85925926],\n",
       "       [0.5       , 0.88148148],\n",
       "       [0.30952381, 0.14074074],\n",
       "       [0.69047619, 0.25925926],\n",
       "       [0.52380952, 0.68148148],\n",
       "       [0.47619048, 0.26666667],\n",
       "       [0.28571429, 0.88888889],\n",
       "       [0.97619048, 0.45185185],\n",
       "       [0.19047619, 0.00740741],\n",
       "       [0.28571429, 0.74814815],\n",
       "       [0.21428571, 0.11851852],\n",
       "       [0.30952381, 0.02222222],\n",
       "       [0.45238095, 0.28148148],\n",
       "       [0.        , 0.27407407],\n",
       "       [0.69047619, 0.14074074],\n",
       "       [0.5       , 0.42962963],\n",
       "       [0.26190476, 0.44444444],\n",
       "       [0.54761905, 0.53333333],\n",
       "       [0.5       , 0.2       ],\n",
       "       [0.28571429, 0.68148148],\n",
       "       [0.57142857, 0.28888889],\n",
       "       [0.19047619, 0.76296296],\n",
       "       [0.78571429, 0.88148148],\n",
       "       [0.45238095, 0.46666667],\n",
       "       [0.21428571, 0.31851852],\n",
       "       [0.38095238, 0.74074074],\n",
       "       [0.26190476, 0.0962963 ],\n",
       "       [0.35714286, 0.33333333],\n",
       "       [0.73809524, 0.43703704],\n",
       "       [0.11904762, 0.37777778],\n",
       "       [0.02380952, 0.02962963],\n",
       "       [0.42857143, 0.25925926],\n",
       "       [0.54761905, 0.33333333],\n",
       "       [0.97619048, 0.94814815],\n",
       "       [0.45238095, 0.27407407],\n",
       "       [0.19047619, 0.01481481],\n",
       "       [0.11904762, 0.03703704],\n",
       "       [0.64285714, 0.05185185],\n",
       "       [0.30952381, 0.        ],\n",
       "       [0.11904762, 0.24444444],\n",
       "       [0.45238095, 0.97037037],\n",
       "       [0.14285714, 0.2962963 ],\n",
       "       [0.02380952, 0.04444444],\n",
       "       [0.69047619, 0.20740741],\n",
       "       [0.47619048, 0.71851852],\n",
       "       [0.35714286, 0.19259259],\n",
       "       [0.47619048, 0.32592593],\n",
       "       [0.52380952, 0.41481481],\n",
       "       [0.73809524, 0.0962963 ],\n",
       "       [0.30952381, 0.54814815],\n",
       "       [0.4047619 , 0.31111111],\n",
       "       [0.52380952, 0.31111111],\n",
       "       [0.16666667, 0.47407407],\n",
       "       [0.35714286, 0.0962963 ],\n",
       "       [0.73809524, 0.15555556],\n",
       "       [0.35714286, 0.26666667],\n",
       "       [0.4047619 , 0.05925926],\n",
       "       [0.83333333, 0.42222222],\n",
       "       [0.30952381, 0.45185185],\n",
       "       [0.69047619, 0.95555556],\n",
       "       [0.71428571, 0.43703704],\n",
       "       [0.28571429, 0.47407407],\n",
       "       [0.        , 0.52592593],\n",
       "       [0.23809524, 0.47407407],\n",
       "       [0.21428571, 0.31111111],\n",
       "       [0.5       , 0.41481481],\n",
       "       [0.21428571, 0.31851852],\n",
       "       [0.47619048, 0.34074074],\n",
       "       [0.73809524, 0.52592593],\n",
       "       [0.52380952, 0.46666667],\n",
       "       [0.42857143, 0.27407407],\n",
       "       [0.5       , 0.47407407],\n",
       "       [0.4047619 , 0.03703704],\n",
       "       [0.76190476, 0.54074074],\n",
       "       [0.97619048, 0.2       ],\n",
       "       [0.73809524, 0.54074074],\n",
       "       [0.64285714, 0.12592593],\n",
       "       [0.28571429, 0.34814815],\n",
       "       [0.54761905, 0.42222222],\n",
       "       [0.02380952, 0.40740741],\n",
       "       [0.69047619, 0.66666667],\n",
       "       [0.45238095, 0.40740741],\n",
       "       [0.71428571, 0.85925926],\n",
       "       [0.66666667, 0.75555556],\n",
       "       [0.        , 0.21481481],\n",
       "       [0.28571429, 0.25185185],\n",
       "       [0.9047619 , 0.33333333],\n",
       "       [0.19047619, 0.48148148],\n",
       "       [0.57142857, 0.28148148],\n",
       "       [0.88095238, 0.17777778],\n",
       "       [0.73809524, 0.93333333],\n",
       "       [0.35714286, 0.72592593],\n",
       "       [0.38095238, 0.07407407],\n",
       "       [0.4047619 , 0.41481481],\n",
       "       [0.19047619, 0.20740741],\n",
       "       [0.76190476, 0.15555556],\n",
       "       [1.        , 0.5037037 ],\n",
       "       [0.02380952, 0.51851852],\n",
       "       [0.38095238, 0.20740741],\n",
       "       [0.71428571, 0.55555556],\n",
       "       [0.42857143, 0.62222222],\n",
       "       [0.69047619, 0.05925926],\n",
       "       [0.19047619, 0.52592593],\n",
       "       [0.52380952, 0.31111111],\n",
       "       [0.19047619, 0.42222222],\n",
       "       [0.92857143, 0.08148148],\n",
       "       [0.57142857, 0.65925926],\n",
       "       [0.47619048, 0.37037037],\n",
       "       [0.0952381 , 0.2962963 ],\n",
       "       [0.45238095, 0.41481481],\n",
       "       [1.        , 0.2       ],\n",
       "       [0.57142857, 0.48148148],\n",
       "       [0.5       , 0.67407407],\n",
       "       [0.4047619 , 0.32592593],\n",
       "       [0.52380952, 0.37037037],\n",
       "       [0.45238095, 0.57777778],\n",
       "       [0.73809524, 0.0962963 ],\n",
       "       [0.4047619 , 0.2962963 ],\n",
       "       [0.19047619, 0.14814815],\n",
       "       [0.66666667, 0.54074074],\n",
       "       [0.5952381 , 0.84444444],\n",
       "       [0.33333333, 0.52592593],\n",
       "       [0.47619048, 0.2962963 ],\n",
       "       [0.92857143, 0.79259259],\n",
       "       [0.92857143, 0.13333333],\n",
       "       [0.4047619 , 0.37037037],\n",
       "       [0.54761905, 0.27407407],\n",
       "       [1.        , 0.14074074],\n",
       "       [0.35714286, 0.11851852],\n",
       "       [0.69047619, 0.25185185],\n",
       "       [0.66666667, 0.05925926],\n",
       "       [0.11904762, 0.0962963 ],\n",
       "       [0.19047619, 0.48148148],\n",
       "       [0.52380952, 0.33333333],\n",
       "       [0.52380952, 0.34074074],\n",
       "       [0.4047619 , 0.56296296],\n",
       "       [1.        , 0.68888889],\n",
       "       [0.28571429, 0.54814815],\n",
       "       [0.64285714, 0.47407407],\n",
       "       [0.71428571, 0.93333333],\n",
       "       [0.80952381, 0.17037037],\n",
       "       [0.07142857, 0.54074074],\n",
       "       [0.52380952, 0.32592593],\n",
       "       [0.45238095, 0.44444444],\n",
       "       [0.69047619, 0.23703704],\n",
       "       [0.45238095, 0.2962963 ],\n",
       "       [0.66666667, 0.0962963 ],\n",
       "       [0.92857143, 0.43703704],\n",
       "       [0.26190476, 0.5037037 ],\n",
       "       [0.54761905, 0.11111111],\n",
       "       [0.42857143, 0.81481481],\n",
       "       [0.0952381 , 0.48888889],\n",
       "       [0.9047619 , 0.87407407],\n",
       "       [0.45238095, 0.95555556],\n",
       "       [0.45238095, 0.48148148],\n",
       "       [0.97619048, 0.54074074],\n",
       "       [0.04761905, 0.25185185],\n",
       "       [0.0952381 , 0.08888889],\n",
       "       [0.64285714, 0.05185185],\n",
       "       [0.33333333, 0.75555556],\n",
       "       [0.33333333, 0.02222222],\n",
       "       [0.4047619 , 0.68888889],\n",
       "       [0.69047619, 0.11111111],\n",
       "       [0.61904762, 0.17777778],\n",
       "       [0.54761905, 0.42222222],\n",
       "       [0.52380952, 0.44444444],\n",
       "       [0.71428571, 0.1037037 ],\n",
       "       [0.85714286, 0.08148148],\n",
       "       [0.85714286, 0.68888889],\n",
       "       [0.69047619, 0.26666667],\n",
       "       [0.45238095, 0.9037037 ],\n",
       "       [0.23809524, 0.2962963 ],\n",
       "       [0.71428571, 0.88148148],\n",
       "       [0.16666667, 0.05185185],\n",
       "       [0.54761905, 0.35555556],\n",
       "       [0.16666667, 0.53333333],\n",
       "       [0.80952381, 0.73333333],\n",
       "       [0.5       , 0.32592593],\n",
       "       [0.19047619, 0.11111111],\n",
       "       [0.57142857, 0.99259259],\n",
       "       [0.5       , 0.44444444],\n",
       "       [0.64285714, 0.08148148],\n",
       "       [0.23809524, 0.21481481],\n",
       "       [0.5       , 0.34074074],\n",
       "       [0.33333333, 0.77777778]])"
      ]
     },
     "execution_count": 45,
     "metadata": {},
     "output_type": "execute_result"
    }
   ],
   "source": [
    "norm.transform(Xtrain)"
   ]
  },
  {
   "cell_type": "code",
   "execution_count": 46,
   "id": "e3658104",
   "metadata": {},
   "outputs": [
    {
     "data": {
      "text/plain": [
       "array([[0.38095238, 0.71851852],\n",
       "       [0.83333333, 0.4962963 ],\n",
       "       [0.28571429, 0.01481481],\n",
       "       [0.26190476, 0.98518519],\n",
       "       [0.66666667, 0.12592593],\n",
       "       [0.28571429, 0.53333333],\n",
       "       [0.78571429, 0.05925926],\n",
       "       [0.83333333, 0.94814815],\n",
       "       [0.4047619 , 0.42962963],\n",
       "       [0.80952381, 1.        ],\n",
       "       [0.5       , 0.6       ],\n",
       "       [0.35714286, 0.4       ],\n",
       "       [0.95238095, 0.63703704],\n",
       "       [0.97619048, 0.1037037 ],\n",
       "       [0.4047619 , 0.21481481],\n",
       "       [0.26190476, 0.20740741],\n",
       "       [0.4047619 , 0.17777778],\n",
       "       [0.23809524, 0.54814815],\n",
       "       [0.5       , 0.41481481],\n",
       "       [0.4047619 , 0.31851852],\n",
       "       [0.02380952, 0.08148148],\n",
       "       [0.19047619, 0.        ],\n",
       "       [0.54761905, 0.48148148],\n",
       "       [0.73809524, 0.37037037],\n",
       "       [0.47619048, 0.25925926],\n",
       "       [0.04761905, 0.43703704],\n",
       "       [0.23809524, 0.8       ],\n",
       "       [0.33333333, 0.02222222],\n",
       "       [0.64285714, 0.22222222],\n",
       "       [0.21428571, 0.55555556],\n",
       "       [0.52380952, 0.23703704],\n",
       "       [0.21428571, 0.28888889],\n",
       "       [0.28571429, 0.        ],\n",
       "       [0.54761905, 0.42222222],\n",
       "       [0.45238095, 0.42222222],\n",
       "       [0.19047619, 0.12592593],\n",
       "       [0.80952381, 0.55555556],\n",
       "       [0.76190476, 0.03703704],\n",
       "       [0.14285714, 0.08888889],\n",
       "       [0.19047619, 0.27407407],\n",
       "       [0.        , 0.39259259],\n",
       "       [0.14285714, 0.12592593],\n",
       "       [0.54761905, 0.42222222],\n",
       "       [0.45238095, 0.45925926],\n",
       "       [0.71428571, 0.19259259],\n",
       "       [0.07142857, 0.42222222],\n",
       "       [0.0952381 , 0.02222222],\n",
       "       [0.57142857, 0.37037037],\n",
       "       [0.16666667, 0.48148148],\n",
       "       [0.28571429, 0.48148148],\n",
       "       [0.38095238, 0.20740741],\n",
       "       [0.23809524, 0.51851852],\n",
       "       [0.4047619 , 0.44444444],\n",
       "       [0.19047619, 0.51111111],\n",
       "       [0.95238095, 0.95555556],\n",
       "       [0.76190476, 0.21481481],\n",
       "       [0.52380952, 0.94074074],\n",
       "       [0.4047619 , 0.47407407],\n",
       "       [0.57142857, 0.47407407],\n",
       "       [0.5952381 , 0.71851852],\n",
       "       [0.30952381, 0.37777778],\n",
       "       [0.54761905, 0.26666667],\n",
       "       [1.        , 0.22962963],\n",
       "       [0.21428571, 0.54074074],\n",
       "       [0.35714286, 0.99259259],\n",
       "       [0.23809524, 0.53333333],\n",
       "       [0.35714286, 0.20740741],\n",
       "       [0.57142857, 0.68888889],\n",
       "       [0.23809524, 0.32592593],\n",
       "       [0.95238095, 0.05925926],\n",
       "       [0.45238095, 0.47407407],\n",
       "       [0.47619048, 0.25925926],\n",
       "       [0.4047619 , 0.97777778],\n",
       "       [0.47619048, 0.72592593],\n",
       "       [0.66666667, 0.47407407],\n",
       "       [0.73809524, 0.17777778],\n",
       "       [0.33333333, 0.75555556],\n",
       "       [0.47619048, 0.48148148],\n",
       "       [0.30952381, 0.31851852],\n",
       "       [0.71428571, 0.6       ]])"
      ]
     },
     "execution_count": 46,
     "metadata": {},
     "output_type": "execute_result"
    }
   ],
   "source": [
    "norm.transform(Xtest)"
   ]
  },
  {
   "cell_type": "code",
   "execution_count": 62,
   "id": "719e48e4",
   "metadata": {},
   "outputs": [],
   "source": [
    "from sklearn.linear_model import LinearRegression"
   ]
  },
  {
   "cell_type": "code",
   "execution_count": 63,
   "id": "da1227f4",
   "metadata": {},
   "outputs": [],
   "source": [
    "lreg=LinearRegression()"
   ]
  },
  {
   "cell_type": "code",
   "execution_count": 64,
   "id": "132ef76e",
   "metadata": {},
   "outputs": [
    {
     "data": {
      "text/plain": [
       "LinearRegression()"
      ]
     },
     "execution_count": 64,
     "metadata": {},
     "output_type": "execute_result"
    }
   ],
   "source": [
    "lreg.fit(Xtrain,ytrain)"
   ]
  },
  {
   "cell_type": "code",
   "execution_count": 65,
   "id": "89789ead",
   "metadata": {},
   "outputs": [
    {
     "data": {
      "text/plain": [
       "0.5110578130922332"
      ]
     },
     "execution_count": 65,
     "metadata": {},
     "output_type": "execute_result"
    }
   ],
   "source": [
    "lreg.score(Xtest,ytest)"
   ]
  },
  {
   "cell_type": "code",
   "execution_count": 66,
   "id": "39045b5b",
   "metadata": {},
   "outputs": [
    {
     "data": {
      "text/html": [
       "<div>\n",
       "<style scoped>\n",
       "    .dataframe tbody tr th:only-of-type {\n",
       "        vertical-align: middle;\n",
       "    }\n",
       "\n",
       "    .dataframe tbody tr th {\n",
       "        vertical-align: top;\n",
       "    }\n",
       "\n",
       "    .dataframe thead th {\n",
       "        text-align: right;\n",
       "    }\n",
       "</style>\n",
       "<table border=\"1\" class=\"dataframe\">\n",
       "  <thead>\n",
       "    <tr style=\"text-align: right;\">\n",
       "      <th></th>\n",
       "      <th>Age</th>\n",
       "      <th>EstimatedSalary</th>\n",
       "    </tr>\n",
       "  </thead>\n",
       "  <tbody>\n",
       "    <tr>\n",
       "      <th>101</th>\n",
       "      <td>28</td>\n",
       "      <td>59000</td>\n",
       "    </tr>\n",
       "    <tr>\n",
       "      <th>389</th>\n",
       "      <td>48</td>\n",
       "      <td>35000</td>\n",
       "    </tr>\n",
       "    <tr>\n",
       "      <th>245</th>\n",
       "      <td>51</td>\n",
       "      <td>146000</td>\n",
       "    </tr>\n",
       "    <tr>\n",
       "      <th>283</th>\n",
       "      <td>52</td>\n",
       "      <td>21000</td>\n",
       "    </tr>\n",
       "    <tr>\n",
       "      <th>6</th>\n",
       "      <td>27</td>\n",
       "      <td>84000</td>\n",
       "    </tr>\n",
       "  </tbody>\n",
       "</table>\n",
       "</div>"
      ],
      "text/plain": [
       "     Age  EstimatedSalary\n",
       "101   28            59000\n",
       "389   48            35000\n",
       "245   51           146000\n",
       "283   52            21000\n",
       "6     27            84000"
      ]
     },
     "execution_count": 66,
     "metadata": {},
     "output_type": "execute_result"
    }
   ],
   "source": [
    "Xtrain.head()"
   ]
  },
  {
   "cell_type": "code",
   "execution_count": 67,
   "id": "79ab549c",
   "metadata": {},
   "outputs": [
    {
     "data": {
      "text/plain": [
       "array([[0.55490235]])"
      ]
     },
     "execution_count": 67,
     "metadata": {},
     "output_type": "execute_result"
    }
   ],
   "source": [
    "lreg.predict([[52,21000]])"
   ]
  },
  {
   "cell_type": "code",
   "execution_count": 68,
   "id": "fb39ce06",
   "metadata": {},
   "outputs": [
    {
     "data": {
      "text/plain": [
       "array([[0.50070923]])"
      ]
     },
     "execution_count": 68,
     "metadata": {},
     "output_type": "execute_result"
    }
   ],
   "source": [
    "lreg.predict([[48,35000]])"
   ]
  },
  {
   "cell_type": "code",
   "execution_count": 70,
   "id": "be9f6eeb",
   "metadata": {},
   "outputs": [],
   "source": [
    "from sklearn.svm import SVC\n"
   ]
  },
  {
   "cell_type": "code",
   "execution_count": 71,
   "id": "d6b92ef6",
   "metadata": {},
   "outputs": [],
   "source": [
    "svm=SVC()"
   ]
  },
  {
   "cell_type": "code",
   "execution_count": 72,
   "id": "e9363be2",
   "metadata": {},
   "outputs": [
    {
     "name": "stderr",
     "output_type": "stream",
     "text": [
      "E:\\python\\MSSQL15.MSSQLSERVER\\anaconda\\lib\\site-packages\\sklearn\\utils\\validation.py:63: DataConversionWarning: A column-vector y was passed when a 1d array was expected. Please change the shape of y to (n_samples, ), for example using ravel().\n",
      "  return f(*args, **kwargs)\n"
     ]
    },
    {
     "data": {
      "text/plain": [
       "SVC()"
      ]
     },
     "execution_count": 72,
     "metadata": {},
     "output_type": "execute_result"
    }
   ],
   "source": [
    "svm.fit(Xtrain,ytrain)"
   ]
  },
  {
   "cell_type": "code",
   "execution_count": 73,
   "id": "ca775c9d",
   "metadata": {},
   "outputs": [
    {
     "data": {
      "text/plain": [
       "0.8"
      ]
     },
     "execution_count": 73,
     "metadata": {},
     "output_type": "execute_result"
    }
   ],
   "source": [
    "svm.score(Xtest,ytest)"
   ]
  },
  {
   "cell_type": "code",
   "execution_count": 74,
   "id": "a2d3964f",
   "metadata": {},
   "outputs": [],
   "source": [
    "from sklearn.linear_model import LogisticRegression"
   ]
  },
  {
   "cell_type": "code",
   "execution_count": 76,
   "id": "f5cbc460",
   "metadata": {},
   "outputs": [],
   "source": [
    "logreg=LogisticRegression()"
   ]
  },
  {
   "cell_type": "code",
   "execution_count": 77,
   "id": "fb3a4350",
   "metadata": {},
   "outputs": [
    {
     "name": "stderr",
     "output_type": "stream",
     "text": [
      "E:\\python\\MSSQL15.MSSQLSERVER\\anaconda\\lib\\site-packages\\sklearn\\utils\\validation.py:63: DataConversionWarning: A column-vector y was passed when a 1d array was expected. Please change the shape of y to (n_samples, ), for example using ravel().\n",
      "  return f(*args, **kwargs)\n"
     ]
    },
    {
     "data": {
      "text/plain": [
       "LogisticRegression()"
      ]
     },
     "execution_count": 77,
     "metadata": {},
     "output_type": "execute_result"
    }
   ],
   "source": [
    "logreg.fit(Xtrain,ytrain)"
   ]
  },
  {
   "cell_type": "code",
   "execution_count": 78,
   "id": "4c3725c8",
   "metadata": {},
   "outputs": [
    {
     "data": {
      "text/plain": [
       "0.65"
      ]
     },
     "execution_count": 78,
     "metadata": {},
     "output_type": "execute_result"
    }
   ],
   "source": [
    "logreg.score(Xtest,ytest)"
   ]
  },
  {
   "cell_type": "code",
   "execution_count": 79,
   "id": "b1783f1c",
   "metadata": {},
   "outputs": [],
   "source": [
    "from sklearn.preprocessing import StandardScaler"
   ]
  },
  {
   "cell_type": "code",
   "execution_count": 81,
   "id": "e0048522",
   "metadata": {},
   "outputs": [],
   "source": [
    "ss=StandardScaler()"
   ]
  },
  {
   "cell_type": "code",
   "execution_count": 82,
   "id": "21b52076",
   "metadata": {},
   "outputs": [
    {
     "data": {
      "text/plain": [
       "StandardScaler()"
      ]
     },
     "execution_count": 82,
     "metadata": {},
     "output_type": "execute_result"
    }
   ],
   "source": [
    "ss.fit(Xtrain)"
   ]
  },
  {
   "cell_type": "code",
   "execution_count": 83,
   "id": "95a6ec64",
   "metadata": {},
   "outputs": [],
   "source": [
    "Xtrain_ss=ss.transform(Xtrain)"
   ]
  },
  {
   "cell_type": "code",
   "execution_count": 84,
   "id": "5bc2e6d2",
   "metadata": {},
   "outputs": [],
   "source": [
    "Xtest=ss.transform(Xtest)"
   ]
  },
  {
   "cell_type": "code",
   "execution_count": 85,
   "id": "7fddc5f3",
   "metadata": {},
   "outputs": [],
   "source": [
    "from sklearn.linear_model import LogisticRegression"
   ]
  },
  {
   "cell_type": "code",
   "execution_count": 87,
   "id": "e75a96e5",
   "metadata": {},
   "outputs": [],
   "source": [
    "logreg1=LogisticRegression()"
   ]
  },
  {
   "cell_type": "code",
   "execution_count": 88,
   "id": "b04b8c32",
   "metadata": {},
   "outputs": [
    {
     "name": "stderr",
     "output_type": "stream",
     "text": [
      "E:\\python\\MSSQL15.MSSQLSERVER\\anaconda\\lib\\site-packages\\sklearn\\utils\\validation.py:63: DataConversionWarning: A column-vector y was passed when a 1d array was expected. Please change the shape of y to (n_samples, ), for example using ravel().\n",
      "  return f(*args, **kwargs)\n"
     ]
    },
    {
     "data": {
      "text/plain": [
       "LogisticRegression()"
      ]
     },
     "execution_count": 88,
     "metadata": {},
     "output_type": "execute_result"
    }
   ],
   "source": [
    "logreg1.fit(Xtrain_ss,ytrain)"
   ]
  },
  {
   "cell_type": "code",
   "execution_count": null,
   "id": "f1c951b0",
   "metadata": {},
   "outputs": [],
   "source": []
  }
 ],
 "metadata": {
  "kernelspec": {
   "display_name": "Python 3 (ipykernel)",
   "language": "python",
   "name": "python3"
  },
  "language_info": {
   "codemirror_mode": {
    "name": "ipython",
    "version": 3
   },
   "file_extension": ".py",
   "mimetype": "text/x-python",
   "name": "python",
   "nbconvert_exporter": "python",
   "pygments_lexer": "ipython3",
   "version": "3.9.7"
  }
 },
 "nbformat": 4,
 "nbformat_minor": 5
}
