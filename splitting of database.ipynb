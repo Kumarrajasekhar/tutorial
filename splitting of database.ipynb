{
 "cells": [
  {
   "cell_type": "code",
   "execution_count": 1,
   "id": "50e62143",
   "metadata": {},
   "outputs": [],
   "source": [
    "import pandas as pd\n",
    "import numpy as np"
   ]
  },
  {
   "cell_type": "code",
   "execution_count": 2,
   "id": "229078fd",
   "metadata": {},
   "outputs": [],
   "source": [
    "ary1=np.arange(10,100,10)"
   ]
  },
  {
   "cell_type": "code",
   "execution_count": 3,
   "id": "848e3bda",
   "metadata": {},
   "outputs": [
    {
     "data": {
      "text/plain": [
       "array([10, 20, 30, 40, 50, 60, 70, 80, 90])"
      ]
     },
     "execution_count": 3,
     "metadata": {},
     "output_type": "execute_result"
    }
   ],
   "source": [
    "ary1"
   ]
  },
  {
   "cell_type": "code",
   "execution_count": 4,
   "id": "b0cbf2e6",
   "metadata": {},
   "outputs": [],
   "source": [
    "from sklearn.model_selection import train_test_split"
   ]
  },
  {
   "cell_type": "code",
   "execution_count": 5,
   "id": "ac0e935e",
   "metadata": {},
   "outputs": [
    {
     "data": {
      "text/plain": [
       "[array([50, 70, 10, 20, 60, 80, 90]), array([40, 30])]"
      ]
     },
     "execution_count": 5,
     "metadata": {},
     "output_type": "execute_result"
    }
   ],
   "source": [
    "train_test_split(ary1,test_size=0.20)"
   ]
  },
  {
   "cell_type": "code",
   "execution_count": 6,
   "id": "a722ffec",
   "metadata": {},
   "outputs": [],
   "source": [
    "from sklearn.model_selection import KFold"
   ]
  },
  {
   "cell_type": "code",
   "execution_count": 7,
   "id": "32b6d827",
   "metadata": {},
   "outputs": [],
   "source": [
    "kf=KFold()"
   ]
  },
  {
   "cell_type": "code",
   "execution_count": 8,
   "id": "50c3c6bb",
   "metadata": {},
   "outputs": [
    {
     "data": {
      "text/plain": [
       "KFold(n_splits=5, random_state=None, shuffle=False)"
      ]
     },
     "execution_count": 8,
     "metadata": {},
     "output_type": "execute_result"
    }
   ],
   "source": [
    "kf"
   ]
  },
  {
   "cell_type": "code",
   "execution_count": 9,
   "id": "947c4e9b",
   "metadata": {},
   "outputs": [],
   "source": [
    "objkf=kf.split(ary1)"
   ]
  },
  {
   "cell_type": "code",
   "execution_count": 10,
   "id": "87759416",
   "metadata": {},
   "outputs": [
    {
     "data": {
      "text/plain": [
       "<generator object _BaseKFold.split at 0x00000141169FA970>"
      ]
     },
     "execution_count": 10,
     "metadata": {},
     "output_type": "execute_result"
    }
   ],
   "source": [
    "objkf"
   ]
  },
  {
   "cell_type": "code",
   "execution_count": 11,
   "id": "cb6d3ae3",
   "metadata": {},
   "outputs": [
    {
     "data": {
      "text/plain": [
       "[(array([2, 3, 4, 5, 6, 7, 8]), array([0, 1])),\n",
       " (array([0, 1, 4, 5, 6, 7, 8]), array([2, 3])),\n",
       " (array([0, 1, 2, 3, 6, 7, 8]), array([4, 5])),\n",
       " (array([0, 1, 2, 3, 4, 5, 8]), array([6, 7])),\n",
       " (array([0, 1, 2, 3, 4, 5, 6, 7]), array([8]))]"
      ]
     },
     "execution_count": 11,
     "metadata": {},
     "output_type": "execute_result"
    }
   ],
   "source": [
    "list(objkf)"
   ]
  },
  {
   "cell_type": "code",
   "execution_count": 12,
   "id": "ec594ea5",
   "metadata": {},
   "outputs": [
    {
     "data": {
      "text/plain": [
       "[]"
      ]
     },
     "execution_count": 12,
     "metadata": {},
     "output_type": "execute_result"
    }
   ],
   "source": [
    "list(objkf)"
   ]
  },
  {
   "cell_type": "code",
   "execution_count": 13,
   "id": "aa597064",
   "metadata": {},
   "outputs": [],
   "source": [
    "objkf1=kf.split(ary1)"
   ]
  },
  {
   "cell_type": "code",
   "execution_count": 14,
   "id": "60115959",
   "metadata": {},
   "outputs": [
    {
     "data": {
      "text/plain": [
       "<generator object _BaseKFold.split at 0x00000141169FAEB0>"
      ]
     },
     "execution_count": 14,
     "metadata": {},
     "output_type": "execute_result"
    }
   ],
   "source": [
    "objkf1"
   ]
  },
  {
   "cell_type": "code",
   "execution_count": 15,
   "id": "982e870a",
   "metadata": {},
   "outputs": [
    {
     "name": "stdout",
     "output_type": "stream",
     "text": [
      "[2 3 4 5 6 7 8]\n",
      "[0 1]\n",
      "[0 1 4 5 6 7 8]\n",
      "[2 3]\n",
      "[0 1 2 3 6 7 8]\n",
      "[4 5]\n",
      "[0 1 2 3 4 5 8]\n",
      "[6 7]\n",
      "[0 1 2 3 4 5 6 7]\n",
      "[8]\n"
     ]
    }
   ],
   "source": [
    "for x,y in objkf1:\n",
    "    print(x)\n",
    "    print(y)"
   ]
  },
  {
   "cell_type": "code",
   "execution_count": null,
   "id": "9797581a",
   "metadata": {},
   "outputs": [],
   "source": []
  },
  {
   "cell_type": "code",
   "execution_count": null,
   "id": "4f7258b4",
   "metadata": {},
   "outputs": [],
   "source": []
  },
  {
   "cell_type": "code",
   "execution_count": null,
   "id": "5851d7cf",
   "metadata": {},
   "outputs": [],
   "source": []
  },
  {
   "cell_type": "code",
   "execution_count": null,
   "id": "94b711fd",
   "metadata": {},
   "outputs": [],
   "source": []
  },
  {
   "cell_type": "code",
   "execution_count": null,
   "id": "dee7f95d",
   "metadata": {},
   "outputs": [],
   "source": []
  },
  {
   "cell_type": "code",
   "execution_count": null,
   "id": "3b4b4a61",
   "metadata": {},
   "outputs": [],
   "source": []
  },
  {
   "cell_type": "code",
   "execution_count": null,
   "id": "50be2e42",
   "metadata": {},
   "outputs": [],
   "source": []
  }
 ],
 "metadata": {
  "kernelspec": {
   "display_name": "Python 3 (ipykernel)",
   "language": "python",
   "name": "python3"
  },
  "language_info": {
   "codemirror_mode": {
    "name": "ipython",
    "version": 3
   },
   "file_extension": ".py",
   "mimetype": "text/x-python",
   "name": "python",
   "nbconvert_exporter": "python",
   "pygments_lexer": "ipython3",
   "version": "3.9.7"
  }
 },
 "nbformat": 4,
 "nbformat_minor": 5
}
